{
 "cells": [
  {
   "cell_type": "code",
   "execution_count": 1,
   "id": "1a4399fd",
   "metadata": {},
   "outputs": [],
   "source": [
    "import pandas as pd\n",
    "import boto3\n",
    "import os"
   ]
  },
  {
   "cell_type": "code",
   "execution_count": 6,
   "id": "77963109",
   "metadata": {},
   "outputs": [
    {
     "name": "stdout",
     "output_type": "stream",
     "text": [
      "[{'Name': 'aws-books-cl', 'CreationDate': datetime.datetime(2023, 5, 10, 1, 39, 19, tzinfo=tzutc())}, {'Name': 'lsc-fake-news', 'CreationDate': datetime.datetime(2023, 5, 14, 20, 20, 27, tzinfo=tzutc())}]\n"
     ]
    }
   ],
   "source": [
    "s3 = boto3.client('s3')\n",
    "BUCKET_NAME = 'lsc-fake-news'\n",
    "bucket = s3.create_bucket(Bucket=BUCKET_NAME)\n",
    "# check if it's already there\n",
    "bucket_response = s3.list_buckets()\n",
    "buckets = bucket_response['Buckets']\n",
    "print(buckets)"
   ]
  },
  {
   "cell_type": "code",
   "execution_count": 7,
   "id": "1752f1ea",
   "metadata": {},
   "outputs": [],
   "source": [
    "# upload csv files\n",
    "PATH = 'data/'\n",
    "for f in os.listdir(PATH):\n",
    "    if f.endswith(\".csv\"): \n",
    "        key = f\n",
    "        local_path = os.path.join(PATH, f)\n",
    "        s3.upload_file(Filename=local_path, \n",
    "               Bucket=BUCKET_NAME,\n",
    "               Key = key)"
   ]
  },
  {
   "cell_type": "code",
   "execution_count": 11,
   "id": "3965cca9",
   "metadata": {},
   "outputs": [
    {
     "name": "stdout",
     "output_type": "stream",
     "text": [
      "2\n"
     ]
    },
    {
     "data": {
      "text/plain": [
       "(None,\n",
       " [{'Key': 'test.csv',\n",
       "   'LastModified': datetime.datetime(2023, 5, 14, 20, 24, 4, tzinfo=tzutc()),\n",
       "   'ETag': '\"39fb36f61b12a092b65865cc1e474114-3\"',\n",
       "   'Size': 25144581,\n",
       "   'StorageClass': 'STANDARD',\n",
       "   'Owner': {'DisplayName': 'awslabsc0w5414412t1677331775',\n",
       "    'ID': '1f509f59b2a71e682bfe39a3580fb7e54ce9dbd3def465b39e75fda2eae20d99'}},\n",
       "  {'Key': 'train.csv',\n",
       "   'LastModified': datetime.datetime(2023, 5, 14, 20, 24, 23, tzinfo=tzutc()),\n",
       "   'ETag': '\"803a483c15e104e70d91250135f8e1fb-12\"',\n",
       "   'Size': 98628550,\n",
       "   'StorageClass': 'STANDARD',\n",
       "   'Owner': {'DisplayName': 'awslabsc0w5414412t1677331775',\n",
       "    'ID': '1f509f59b2a71e682bfe39a3580fb7e54ce9dbd3def465b39e75fda2eae20d99'}}])"
      ]
     },
     "execution_count": 11,
     "metadata": {},
     "output_type": "execute_result"
    }
   ],
   "source": [
    "# check objects in a bucket\n",
    "response = s3.list_objects(\n",
    "            Bucket=BUCKET_NAME)\n",
    "print(len(response['Contents'])), response['Contents']"
   ]
  },
  {
   "cell_type": "code",
   "execution_count": null,
   "id": "4e85a4af",
   "metadata": {},
   "outputs": [],
   "source": []
  }
 ],
 "metadata": {
  "kernelspec": {
   "display_name": "Python 3 (ipykernel)",
   "language": "python",
   "name": "python3"
  },
  "language_info": {
   "codemirror_mode": {
    "name": "ipython",
    "version": 3
   },
   "file_extension": ".py",
   "mimetype": "text/x-python",
   "name": "python",
   "nbconvert_exporter": "python",
   "pygments_lexer": "ipython3",
   "version": "3.10.10"
  }
 },
 "nbformat": 4,
 "nbformat_minor": 5
}
