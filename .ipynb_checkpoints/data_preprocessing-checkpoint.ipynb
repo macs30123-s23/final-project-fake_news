{
 "cells": [
  {
   "cell_type": "code",
   "execution_count": 1,
   "id": "231bb3a8",
   "metadata": {},
   "outputs": [
    {
     "name": "stderr",
     "output_type": "stream",
     "text": [
      "Setting default log level to \"WARN\".\n",
      "To adjust logging level use sc.setLogLevel(newLevel). For SparkR, use setLogLevel(newLevel).\n",
      "23/05/14 18:27:23 WARN NativeCodeLoader: Unable to load native-hadoop library for your platform... using builtin-java classes where applicable\n"
     ]
    }
   ],
   "source": [
    "# # Find Spark so that we can access session within our notebook\n",
    "import findspark\n",
    "findspark.init()\n",
    "\n",
    "# Start SparkSession on all available cores\n",
    "from pyspark.sql import SparkSession\n",
    "spark = SparkSession.builder.master(\"local[*]\").getOrCreate()"
   ]
  },
  {
   "cell_type": "code",
   "execution_count": 2,
   "id": "6202e647",
   "metadata": {},
   "outputs": [
    {
     "name": "stderr",
     "output_type": "stream",
     "text": [
      "                                                                                \r"
     ]
    }
   ],
   "source": [
    "data = spark.read.csv('data/train1.csv',\n",
    "                      header='true',\n",
    "                      inferSchema='true',\n",
    "                      multiLine=True)"
   ]
  },
  {
   "cell_type": "code",
   "execution_count": 3,
   "id": "7f24feeb",
   "metadata": {},
   "outputs": [
    {
     "name": "stdout",
     "output_type": "stream",
     "text": [
      "Total Columns: 5\n"
     ]
    },
    {
     "name": "stderr",
     "output_type": "stream",
     "text": [
      "\r",
      "[Stage 2:>                                                          (0 + 1) / 1]\r"
     ]
    },
    {
     "name": "stdout",
     "output_type": "stream",
     "text": [
      "Total Rows: 20800\n",
      "root\n",
      " |-- id: integer (nullable = true)\n",
      " |-- title: string (nullable = true)\n",
      " |-- author: string (nullable = true)\n",
      " |-- text: string (nullable = true)\n",
      " |-- label: integer (nullable = true)\n",
      "\n"
     ]
    },
    {
     "name": "stderr",
     "output_type": "stream",
     "text": [
      "\r",
      "                                                                                \r"
     ]
    }
   ],
   "source": [
    "print('Total Columns: %d' % len(data.dtypes))\n",
    "print('Total Rows: %d' % data.count())\n",
    "data.printSchema()"
   ]
  },
  {
   "cell_type": "code",
   "execution_count": 4,
   "id": "f99072fa",
   "metadata": {},
   "outputs": [
    {
     "name": "stdout",
     "output_type": "stream",
     "text": [
      "+---+--------------------+--------------------+--------------------+-----+\n",
      "| id|               title|              author|                text|label|\n",
      "+---+--------------------+--------------------+--------------------+-----+\n",
      "|  0|House Dem Aide: W...|       Darrell Lucus|\"House Dem Aide: ...|    1|\n",
      "|  1|FLYNN: Hillary Cl...|     Daniel J. Flynn|Ever get the feel...|    0|\n",
      "|  2|Why the Truth Mig...|  Consortiumnews.com|Why the Truth Mig...|    1|\n",
      "|  3|15 Civilians Kill...|     Jessica Purkiss|Videos 15 Civilia...|    1|\n",
      "|  4|Iranian woman jai...|      Howard Portnoy|Print An Iranian ...|    1|\n",
      "|  5|Jackie Mason: Hol...|     Daniel Nussbaum|In these trying t...|    0|\n",
      "|  6|Life: Life Of Lux...|                null|Ever wonder how B...|    1|\n",
      "|  7|Benoît Hamon Wins...|     Alissa J. Rubin|PARIS  —   France...|    0|\n",
      "|  8|Excerpts From a D...|                null|Donald J. Trump i...|    0|\n",
      "|  9|A Back-Channel Pl...|Megan Twohey and ...|A week before Mic...|    0|\n",
      "| 10|Obama’s Organizin...|         Aaron Klein|Organizing for Ac...|    0|\n",
      "| 11|\"BBC Comedy Sketc...|     Chris Tomlinson|The BBC produced ...|    0|\n",
      "| 12|Russian Researche...|       Amando Flavio|The mystery surro...|    1|\n",
      "| 13|US Officials See ...|          Jason Ditz|Clinton Campaign ...|    1|\n",
      "| 14|Re: Yes There Are...|        AnotherAnnie|Yes There Are Pai...|    1|\n",
      "| 15|In Major League S...|       Jack Williams|Guillermo Barros ...|    0|\n",
      "| 16|Wells Fargo Chief...|Michael Corkery a...|The scandal engul...|    0|\n",
      "| 17|Anonymous Donor P...|            Starkman|A Caddo Nation tr...|    1|\n",
      "| 18|FBI Closes In On ...|             The Doc|FBI Closes In On ...|    1|\n",
      "| 19|Chuck Todd: ’Buzz...|           Jeff Poor|Wednesday after  ...|    0|\n",
      "+---+--------------------+--------------------+--------------------+-----+\n",
      "only showing top 20 rows\n",
      "\n"
     ]
    }
   ],
   "source": [
    "data.show()"
   ]
  },
  {
   "cell_type": "markdown",
   "id": "acb267b4",
   "metadata": {},
   "source": [
    "### Check Class Balance"
   ]
  },
  {
   "cell_type": "code",
   "execution_count": 5,
   "id": "81c1de41",
   "metadata": {},
   "outputs": [
    {
     "name": "stderr",
     "output_type": "stream",
     "text": [
      "\r",
      "[Stage 6:>                                                          (0 + 1) / 1]\r"
     ]
    },
    {
     "name": "stdout",
     "output_type": "stream",
     "text": [
      "+-----+-----+\n",
      "|label|count|\n",
      "+-----+-----+\n",
      "|    1|10413|\n",
      "|    0|10387|\n",
      "+-----+-----+\n",
      "\n"
     ]
    },
    {
     "name": "stderr",
     "output_type": "stream",
     "text": [
      "\r",
      "                                                                                \r"
     ]
    }
   ],
   "source": [
    "labels = (data.groupBy('label')\n",
    "             .count()\n",
    "        )\n",
    "labels.show()"
   ]
  },
  {
   "cell_type": "markdown",
   "id": "e4a0c482",
   "metadata": {},
   "source": [
    "### Text Preprocessing"
   ]
  },
  {
   "cell_type": "code",
   "execution_count": 16,
   "id": "dd6eef9e",
   "metadata": {},
   "outputs": [],
   "source": [
    "from pyspark.ml.feature import Word2Vec, Word2VecModel\n",
    "from pyspark.ml.feature import Tokenizer, RegexTokenizer, StopWordsRemover\n",
    "from pyspark.sql.functions import regexp_replace, array, col, udf, split\n",
    "from pyspark.ml import Pipeline\n",
    "from sparknlp.annotator import Lemmatizer\n",
    "import string"
   ]
  },
  {
   "cell_type": "code",
   "execution_count": 7,
   "id": "4e6ff2d0",
   "metadata": {},
   "outputs": [
    {
     "name": "stderr",
     "output_type": "stream",
     "text": [
      "\r",
      "[Stage 9:>                                                          (0 + 1) / 1]\r"
     ]
    },
    {
     "name": "stdout",
     "output_type": "stream",
     "text": [
      "+---+--------------------+--------------------+--------------------+-----+--------------------+\n",
      "| id|               title|              author|                text|label|        text_cleaned|\n",
      "+---+--------------------+--------------------+--------------------+-----+--------------------+\n",
      "|  0|House Dem Aide: W...|       Darrell Lucus|\"House Dem Aide: ...|    1|House Dem Aide We...|\n",
      "|  1|FLYNN: Hillary Cl...|     Daniel J. Flynn|Ever get the feel...|    0|Ever get the feel...|\n",
      "|  2|Why the Truth Mig...|  Consortiumnews.com|Why the Truth Mig...|    1|Why the Truth Mig...|\n",
      "|  3|15 Civilians Kill...|     Jessica Purkiss|Videos 15 Civilia...|    1|Videos 15 Civilia...|\n",
      "|  4|Iranian woman jai...|      Howard Portnoy|Print An Iranian ...|    1|Print An Iranian ...|\n",
      "|  5|Jackie Mason: Hol...|     Daniel Nussbaum|In these trying t...|    0|In these trying t...|\n",
      "|  6|Life: Life Of Lux...|                null|Ever wonder how B...|    1|Ever wonder how B...|\n",
      "|  7|Benoît Hamon Wins...|     Alissa J. Rubin|PARIS  —   France...|    0|PARIS     France ...|\n",
      "|  8|Excerpts From a D...|                null|Donald J. Trump i...|    0|Donald J Trump is...|\n",
      "|  9|A Back-Channel Pl...|Megan Twohey and ...|A week before Mic...|    0|A week before Mic...|\n",
      "| 10|Obama’s Organizin...|         Aaron Klein|Organizing for Ac...|    0|Organizing for Ac...|\n",
      "| 11|\"BBC Comedy Sketc...|     Chris Tomlinson|The BBC produced ...|    0|The BBC produced ...|\n",
      "| 12|Russian Researche...|       Amando Flavio|The mystery surro...|    1|The mystery surro...|\n",
      "| 13|US Officials See ...|          Jason Ditz|Clinton Campaign ...|    1|Clinton Campaign ...|\n",
      "| 14|Re: Yes There Are...|        AnotherAnnie|Yes There Are Pai...|    1|Yes There Are Pai...|\n",
      "| 15|In Major League S...|       Jack Williams|Guillermo Barros ...|    0|Guillermo Barros ...|\n",
      "| 16|Wells Fargo Chief...|Michael Corkery a...|The scandal engul...|    0|The scandal engul...|\n",
      "| 17|Anonymous Donor P...|            Starkman|A Caddo Nation tr...|    1|A Caddo Nation tr...|\n",
      "| 18|FBI Closes In On ...|             The Doc|FBI Closes In On ...|    1|FBI Closes In On ...|\n",
      "| 19|Chuck Todd: ’Buzz...|           Jeff Poor|Wednesday after  ...|    0|Wednesday after  ...|\n",
      "+---+--------------------+--------------------+--------------------+-----+--------------------+\n",
      "only showing top 20 rows\n",
      "\n"
     ]
    },
    {
     "name": "stderr",
     "output_type": "stream",
     "text": [
      "\r",
      "                                                                                \r"
     ]
    }
   ],
   "source": [
    "# remove punctuation\n",
    "punctuation = string.punctuation\n",
    "punctuation += '—'\n",
    "\n",
    "def remove_punc(x):\n",
    "    new_str = x\n",
    "    for ch in punctuation:\n",
    "        new_str = new_str.replace(ch, '')\n",
    "    return new_str\n",
    "\n",
    "rp_udf = udf(lambda x: remove_punc(x))\n",
    "\n",
    "data1 = data.withColumn(\"text_cleaned\", rp_udf(col('text')))\n",
    "data1.show()"
   ]
  },
  {
   "cell_type": "code",
   "execution_count": 8,
   "id": "1858e0bf",
   "metadata": {},
   "outputs": [],
   "source": [
    "# tokenizer\n",
    "# tokenizer = RegexTokenizer(inputCol='text_cleaned', outputCol=\"tokens\")\n",
    "# data1 = tokenizer.transform(data)\n",
    "# data1.show()"
   ]
  },
  {
   "cell_type": "code",
   "execution_count": 9,
   "id": "774c43fa",
   "metadata": {},
   "outputs": [],
   "source": [
    "# remove stopwords\n",
    "# remover = StopWordsRemover(inputCol=\"tokens\", outputCol=\"text_rm_stop\")\n",
    "# data1 = remover.transform(data1)\n",
    "# data1.show()"
   ]
  },
  {
   "cell_type": "markdown",
   "id": "de4c9893",
   "metadata": {},
   "source": [
    "### Build Pipeline"
   ]
  },
  {
   "cell_type": "code",
   "execution_count": 10,
   "id": "abe702fe",
   "metadata": {},
   "outputs": [],
   "source": [
    "tokenizer = RegexTokenizer() \\\n",
    "    .setInputCol(\"text_cleaned\") \\\n",
    "    .setOutputCol(\"tokens\")\n",
    "stopwords = StopWordsRemover() \\\n",
    "    .setInputCol(\"tokens\") \\\n",
    "    .setOutputCol(\"text_rm_stop\")\n",
    "nlpPipeline = Pipeline(stages=[tokenizer,\n",
    "                               stopwords])"
   ]
  },
  {
   "cell_type": "code",
   "execution_count": 26,
   "id": "31552ce2",
   "metadata": {},
   "outputs": [],
   "source": [
    "final_df = nlpPipeline.fit(data1).transform(data1)"
   ]
  },
  {
   "cell_type": "markdown",
   "id": "cd0f7f5a",
   "metadata": {},
   "source": [
    "### Lemmatizer"
   ]
  },
  {
   "cell_type": "code",
   "execution_count": 27,
   "id": "9dbba263",
   "metadata": {},
   "outputs": [
    {
     "name": "stderr",
     "output_type": "stream",
     "text": [
      "[nltk_data] Downloading package wordnet to\n",
      "[nltk_data]     /Users/carolynliu/nltk_data...\n",
      "[nltk_data]   Package wordnet is already up-to-date!\n",
      "[nltk_data] Downloading package omw-1.4 to\n",
      "[nltk_data]     /Users/carolynliu/nltk_data...\n",
      "[nltk_data]   Package omw-1.4 is already up-to-date!\n",
      "[Stage 13:>                                                         (0 + 1) / 1]\r"
     ]
    },
    {
     "name": "stdout",
     "output_type": "stream",
     "text": [
      "+---+--------------------+--------------------+--------------------+-----+--------------------+--------------------+--------------------+--------------------+\n",
      "| id|               title|              author|                text|label|        text_cleaned|              tokens|        text_rm_stop|                 lem|\n",
      "+---+--------------------+--------------------+--------------------+-----+--------------------+--------------------+--------------------+--------------------+\n",
      "|  0|House Dem Aide: W...|       Darrell Lucus|\"House Dem Aide: ...|    1|House Dem Aide We...|[house, dem, aide...|[house, dem, aide...|[house, dem, aide...|\n",
      "|  1|FLYNN: Hillary Cl...|     Daniel J. Flynn|Ever get the feel...|    0|Ever get the feel...|[ever, get, the, ...|[ever, get, feeli...|[ever, get, feeli...|\n",
      "|  2|Why the Truth Mig...|  Consortiumnews.com|Why the Truth Mig...|    1|Why the Truth Mig...|[why, the, truth,...|[truth, might, ge...|[truth, might, ge...|\n",
      "|  3|15 Civilians Kill...|     Jessica Purkiss|Videos 15 Civilia...|    1|Videos 15 Civilia...|[videos, 15, civi...|[videos, 15, civi...|[video, 15, civil...|\n",
      "|  4|Iranian woman jai...|      Howard Portnoy|Print An Iranian ...|    1|Print An Iranian ...|[print, an, irani...|[print, iranian, ...|[print, iranian, ...|\n",
      "|  5|Jackie Mason: Hol...|     Daniel Nussbaum|In these trying t...|    0|In these trying t...|[in, these, tryin...|[trying, times, j...|[trying, time, ja...|\n",
      "|  6|Life: Life Of Lux...|                null|Ever wonder how B...|    1|Ever wonder how B...|[ever, wonder, ho...|[ever, wonder, br...|[ever, wonder, br...|\n",
      "|  7|Benoît Hamon Wins...|     Alissa J. Rubin|PARIS  —   France...|    0|PARIS     France ...|[paris, france, c...|[paris, france, c...|[paris, france, c...|\n",
      "|  8|Excerpts From a D...|                null|Donald J. Trump i...|    0|Donald J Trump is...|[donald, j, trump...|[donald, j, trump...|[donald, j, trump...|\n",
      "|  9|A Back-Channel Pl...|Megan Twohey and ...|A week before Mic...|    0|A week before Mic...|[a, week, before,...|[week, michael, f...|[week, michael, f...|\n",
      "| 10|Obama’s Organizin...|         Aaron Klein|Organizing for Ac...|    0|Organizing for Ac...|[organizing, for,...|[organizing, acti...|[organizing, acti...|\n",
      "| 11|\"BBC Comedy Sketc...|     Chris Tomlinson|The BBC produced ...|    0|The BBC produced ...|[the, bbc, produc...|[bbc, produced, s...|[bbc, produced, s...|\n",
      "| 12|Russian Researche...|       Amando Flavio|The mystery surro...|    1|The mystery surro...|[the, mystery, su...|[mystery, surroun...|[mystery, surroun...|\n",
      "| 13|US Officials See ...|          Jason Ditz|Clinton Campaign ...|    1|Clinton Campaign ...|[clinton, campaig...|[clinton, campaig...|[clinton, campaig...|\n",
      "| 14|Re: Yes There Are...|        AnotherAnnie|Yes There Are Pai...|    1|Yes There Are Pai...|[yes, there, are,...|[yes, paid, gover...|[yes, paid, gover...|\n",
      "| 15|In Major League S...|       Jack Williams|Guillermo Barros ...|    0|Guillermo Barros ...|[guillermo, barro...|[guillermo, barro...|[guillermo, barro...|\n",
      "| 16|Wells Fargo Chief...|Michael Corkery a...|The scandal engul...|    0|The scandal engul...|[the, scandal, en...|[scandal, engulfi...|[scandal, engulfi...|\n",
      "| 17|Anonymous Donor P...|            Starkman|A Caddo Nation tr...|    1|A Caddo Nation tr...|[a, caddo, nation...|[caddo, nation, t...|[caddo, nation, t...|\n",
      "| 18|FBI Closes In On ...|             The Doc|FBI Closes In On ...|    1|FBI Closes In On ...|[fbi, closes, in,...|[fbi, closes, hil...|[fbi, close, hill...|\n",
      "| 19|Chuck Todd: ’Buzz...|           Jeff Poor|Wednesday after  ...|    0|Wednesday after  ...|[wednesday, after...|[wednesday, donal...|[wednesday, donal...|\n",
      "+---+--------------------+--------------------+--------------------+-----+--------------------+--------------------+--------------------+--------------------+\n",
      "only showing top 20 rows\n",
      "\n"
     ]
    },
    {
     "name": "stderr",
     "output_type": "stream",
     "text": [
      "\r",
      "                                                                                \r"
     ]
    }
   ],
   "source": [
    "import nltk\n",
    "nltk.download('wordnet')\n",
    "nltk.download('omw-1.4')\n",
    "from nltk.stem import WordNetLemmatizer\n",
    " \n",
    "lemmatizer = WordNetLemmatizer()\n",
    "\n",
    "def lems(x):\n",
    "    words = [lemmatizer.lemmatize(word) for word in x]\n",
    "    return words\n",
    "\n",
    "lem_udf = udf(lambda x: lems(x))\n",
    "\n",
    "final_df = final_df.withColumn(\"lem\", lem_udf(col('text_rm_stop')))\n",
    "final_df.show()"
   ]
  },
  {
   "cell_type": "code",
   "execution_count": 32,
   "id": "b88de5e8",
   "metadata": {},
   "outputs": [],
   "source": [
    "final_df = final_df.select(split(col(\"lem\"),\",\").alias(\"lem\"), col(\"id\"), col(\"label\"))"
   ]
  },
  {
   "cell_type": "code",
   "execution_count": 35,
   "id": "956b1ab0",
   "metadata": {},
   "outputs": [
    {
     "name": "stdout",
     "output_type": "stream",
     "text": [
      "root\n",
      " |-- lem: array (nullable = true)\n",
      " |    |-- element: string (containsNull = false)\n",
      " |-- id: integer (nullable = true)\n",
      " |-- label: integer (nullable = true)\n",
      "\n"
     ]
    }
   ],
   "source": [
    "final_df.printSchema()"
   ]
  }
 ],
 "metadata": {
  "kernelspec": {
   "display_name": "Python 3 (ipykernel)",
   "language": "python",
   "name": "python3"
  },
  "language_info": {
   "codemirror_mode": {
    "name": "ipython",
    "version": 3
   },
   "file_extension": ".py",
   "mimetype": "text/x-python",
   "name": "python",
   "nbconvert_exporter": "python",
   "pygments_lexer": "ipython3",
   "version": "3.10.10"
  }
 },
 "nbformat": 4,
 "nbformat_minor": 5
}
